{
 "cells": [
  {
   "cell_type": "markdown",
   "metadata": {},
   "source": [
    "# Machine Learning Projekt von dataquest.io"
   ]
  },
  {
   "cell_type": "markdown",
   "metadata": {},
   "source": [
    "Das folgende Projekt stammt von dataquest.io, einer Lernplattform für Data Science mit Pyhton und R. Nach jedem Lernkapitel wird eine Projektaufgabe ohne Lösung gestellt, in der die \"Studenten\" das gelernte anwenden können. Diese Projekt stammt aus dem 6. Kapitel des Data Science Tracks."
   ]
  },
  {
   "cell_type": "markdown",
   "metadata": {},
   "source": [
    "Das Datenset wird von dataquest gestellt und kann von den \"Studenten\" heruntergeladen werden."
   ]
  },
  {
   "cell_type": "markdown",
   "metadata": {},
   "source": [
    "## Datenanalyse und Bereinigung\n",
    "In einem ersten Schritt werde ich die Daten kurz untersuchen, schauen welche Werte bereinigt werden müssen und diese dann bereinigen"
   ]
  },
  {
   "cell_type": "markdown",
   "metadata": {},
   "source": [
    "Zur schnelleren Analyse greife ich auf Bibliotheken wie pandas und numpy zurück."
   ]
  },
  {
   "cell_type": "code",
   "execution_count": 6,
   "metadata": {},
   "outputs": [
    {
     "data": {
      "text/plain": [
       "symboling              int64\n",
       "normalized_losses     object\n",
       "make                  object\n",
       "fuel_type             object\n",
       "aspiration            object\n",
       "num_doors             object\n",
       "body_style            object\n",
       "drive_wheels          object\n",
       "engine_location       object\n",
       "wheel_base           float64\n",
       "length               float64\n",
       "width                float64\n",
       "height               float64\n",
       "curb_weight            int64\n",
       "engine_type           object\n",
       "num_cylinders         object\n",
       "engine_size            int64\n",
       "fuel_system           object\n",
       "bore                  object\n",
       "stroke                object\n",
       "compression_ratio    float64\n",
       "horsepower            object\n",
       "peak_rpm              object\n",
       "city_mpg               int64\n",
       "highway_mpg            int64\n",
       "price                 object\n",
       "dtype: object"
      ]
     },
     "execution_count": 6,
     "metadata": {},
     "output_type": "execute_result"
    }
   ],
   "source": [
    "import pandas as pd\n",
    "\n",
    "cols = [\"symboling\", \"normalized_losses\", \"make\", \"fuel_type\", \"aspiration\",\n",
    "       \"num_doors\", \"body_style\", \"drive_wheels\", \"engine_location\",\n",
    "       \"wheel_base\", \"length\", \"width\", \"height\", \"curb_weight\", \"engine_type\",\n",
    "       \"num_cylinders\", \"engine_size\", \"fuel_system\", \"bore\", \"stroke\",\n",
    "       \"compression_ratio\", \"horsepower\", \"peak_rpm\", \"city_mpg\", \"highway_mpg\",\n",
    "       \"price\"]\n",
    "cars = pd.read_csv(\"imports-85.data\", names=cols)\n",
    "cars.dtypes"
   ]
  },
  {
   "cell_type": "markdown",
   "metadata": {},
   "source": [
    "Wir haben 25 Spalte mit Daten, um einen Autpreis zu prognostizieren."
   ]
  },
  {
   "cell_type": "code",
   "execution_count": 7,
   "metadata": {},
   "outputs": [
    {
     "data": {
      "text/html": [
       "<div>\n",
       "<style scoped>\n",
       "    .dataframe tbody tr th:only-of-type {\n",
       "        vertical-align: middle;\n",
       "    }\n",
       "\n",
       "    .dataframe tbody tr th {\n",
       "        vertical-align: top;\n",
       "    }\n",
       "\n",
       "    .dataframe thead th {\n",
       "        text-align: right;\n",
       "    }\n",
       "</style>\n",
       "<table border=\"1\" class=\"dataframe\">\n",
       "  <thead>\n",
       "    <tr style=\"text-align: right;\">\n",
       "      <th></th>\n",
       "      <th>symboling</th>\n",
       "      <th>normalized_losses</th>\n",
       "      <th>make</th>\n",
       "      <th>fuel_type</th>\n",
       "      <th>aspiration</th>\n",
       "      <th>num_doors</th>\n",
       "      <th>body_style</th>\n",
       "      <th>drive_wheels</th>\n",
       "      <th>engine_location</th>\n",
       "      <th>wheel_base</th>\n",
       "      <th>...</th>\n",
       "      <th>engine_size</th>\n",
       "      <th>fuel_system</th>\n",
       "      <th>bore</th>\n",
       "      <th>stroke</th>\n",
       "      <th>compression_ratio</th>\n",
       "      <th>horsepower</th>\n",
       "      <th>peak_rpm</th>\n",
       "      <th>city_mpg</th>\n",
       "      <th>highway_mpg</th>\n",
       "      <th>price</th>\n",
       "    </tr>\n",
       "  </thead>\n",
       "  <tbody>\n",
       "    <tr>\n",
       "      <th>0</th>\n",
       "      <td>3</td>\n",
       "      <td>?</td>\n",
       "      <td>alfa-romero</td>\n",
       "      <td>gas</td>\n",
       "      <td>std</td>\n",
       "      <td>two</td>\n",
       "      <td>convertible</td>\n",
       "      <td>rwd</td>\n",
       "      <td>front</td>\n",
       "      <td>88.6</td>\n",
       "      <td>...</td>\n",
       "      <td>130</td>\n",
       "      <td>mpfi</td>\n",
       "      <td>3.47</td>\n",
       "      <td>2.68</td>\n",
       "      <td>9.0</td>\n",
       "      <td>111</td>\n",
       "      <td>5000</td>\n",
       "      <td>21</td>\n",
       "      <td>27</td>\n",
       "      <td>13495</td>\n",
       "    </tr>\n",
       "    <tr>\n",
       "      <th>1</th>\n",
       "      <td>3</td>\n",
       "      <td>?</td>\n",
       "      <td>alfa-romero</td>\n",
       "      <td>gas</td>\n",
       "      <td>std</td>\n",
       "      <td>two</td>\n",
       "      <td>convertible</td>\n",
       "      <td>rwd</td>\n",
       "      <td>front</td>\n",
       "      <td>88.6</td>\n",
       "      <td>...</td>\n",
       "      <td>130</td>\n",
       "      <td>mpfi</td>\n",
       "      <td>3.47</td>\n",
       "      <td>2.68</td>\n",
       "      <td>9.0</td>\n",
       "      <td>111</td>\n",
       "      <td>5000</td>\n",
       "      <td>21</td>\n",
       "      <td>27</td>\n",
       "      <td>16500</td>\n",
       "    </tr>\n",
       "    <tr>\n",
       "      <th>2</th>\n",
       "      <td>1</td>\n",
       "      <td>?</td>\n",
       "      <td>alfa-romero</td>\n",
       "      <td>gas</td>\n",
       "      <td>std</td>\n",
       "      <td>two</td>\n",
       "      <td>hatchback</td>\n",
       "      <td>rwd</td>\n",
       "      <td>front</td>\n",
       "      <td>94.5</td>\n",
       "      <td>...</td>\n",
       "      <td>152</td>\n",
       "      <td>mpfi</td>\n",
       "      <td>2.68</td>\n",
       "      <td>3.47</td>\n",
       "      <td>9.0</td>\n",
       "      <td>154</td>\n",
       "      <td>5000</td>\n",
       "      <td>19</td>\n",
       "      <td>26</td>\n",
       "      <td>16500</td>\n",
       "    </tr>\n",
       "    <tr>\n",
       "      <th>3</th>\n",
       "      <td>2</td>\n",
       "      <td>164</td>\n",
       "      <td>audi</td>\n",
       "      <td>gas</td>\n",
       "      <td>std</td>\n",
       "      <td>four</td>\n",
       "      <td>sedan</td>\n",
       "      <td>fwd</td>\n",
       "      <td>front</td>\n",
       "      <td>99.8</td>\n",
       "      <td>...</td>\n",
       "      <td>109</td>\n",
       "      <td>mpfi</td>\n",
       "      <td>3.19</td>\n",
       "      <td>3.40</td>\n",
       "      <td>10.0</td>\n",
       "      <td>102</td>\n",
       "      <td>5500</td>\n",
       "      <td>24</td>\n",
       "      <td>30</td>\n",
       "      <td>13950</td>\n",
       "    </tr>\n",
       "    <tr>\n",
       "      <th>4</th>\n",
       "      <td>2</td>\n",
       "      <td>164</td>\n",
       "      <td>audi</td>\n",
       "      <td>gas</td>\n",
       "      <td>std</td>\n",
       "      <td>four</td>\n",
       "      <td>sedan</td>\n",
       "      <td>4wd</td>\n",
       "      <td>front</td>\n",
       "      <td>99.4</td>\n",
       "      <td>...</td>\n",
       "      <td>136</td>\n",
       "      <td>mpfi</td>\n",
       "      <td>3.19</td>\n",
       "      <td>3.40</td>\n",
       "      <td>8.0</td>\n",
       "      <td>115</td>\n",
       "      <td>5500</td>\n",
       "      <td>18</td>\n",
       "      <td>22</td>\n",
       "      <td>17450</td>\n",
       "    </tr>\n",
       "  </tbody>\n",
       "</table>\n",
       "<p>5 rows × 26 columns</p>\n",
       "</div>"
      ],
      "text/plain": [
       "   symboling normalized_losses         make fuel_type aspiration num_doors  \\\n",
       "0          3                 ?  alfa-romero       gas        std       two   \n",
       "1          3                 ?  alfa-romero       gas        std       two   \n",
       "2          1                 ?  alfa-romero       gas        std       two   \n",
       "3          2               164         audi       gas        std      four   \n",
       "4          2               164         audi       gas        std      four   \n",
       "\n",
       "    body_style drive_wheels engine_location  wheel_base  ...  engine_size  \\\n",
       "0  convertible          rwd           front        88.6  ...          130   \n",
       "1  convertible          rwd           front        88.6  ...          130   \n",
       "2    hatchback          rwd           front        94.5  ...          152   \n",
       "3        sedan          fwd           front        99.8  ...          109   \n",
       "4        sedan          4wd           front        99.4  ...          136   \n",
       "\n",
       "   fuel_system  bore  stroke compression_ratio horsepower  peak_rpm city_mpg  \\\n",
       "0         mpfi  3.47    2.68               9.0        111      5000       21   \n",
       "1         mpfi  3.47    2.68               9.0        111      5000       21   \n",
       "2         mpfi  2.68    3.47               9.0        154      5000       19   \n",
       "3         mpfi  3.19    3.40              10.0        102      5500       24   \n",
       "4         mpfi  3.19    3.40               8.0        115      5500       18   \n",
       "\n",
       "  highway_mpg  price  \n",
       "0          27  13495  \n",
       "1          27  16500  \n",
       "2          26  16500  \n",
       "3          30  13950  \n",
       "4          22  17450  \n",
       "\n",
       "[5 rows x 26 columns]"
      ]
     },
     "execution_count": 7,
     "metadata": {},
     "output_type": "execute_result"
    }
   ],
   "source": [
    "# Anschauen der Daten\n",
    "cars.head()"
   ]
  },
  {
   "cell_type": "markdown",
   "metadata": {},
   "source": [
    "Wir wollen in einem ersten Schritt die Fragezeichen zu NaN verwandeln, um mit Ihnen arbeiten zu können. Weiter werden wir uns auf die SPalten mit numerischen Werten konzentrieren und versuchen so viele Werte wie möglich in Floating Werte umzuwandeln."
   ]
  },
  {
   "cell_type": "code",
   "execution_count": 9,
   "metadata": {},
   "outputs": [
    {
     "data": {
      "text/html": [
       "<div>\n",
       "<style scoped>\n",
       "    .dataframe tbody tr th:only-of-type {\n",
       "        vertical-align: middle;\n",
       "    }\n",
       "\n",
       "    .dataframe tbody tr th {\n",
       "        vertical-align: top;\n",
       "    }\n",
       "\n",
       "    .dataframe thead th {\n",
       "        text-align: right;\n",
       "    }\n",
       "</style>\n",
       "<table border=\"1\" class=\"dataframe\">\n",
       "  <thead>\n",
       "    <tr style=\"text-align: right;\">\n",
       "      <th></th>\n",
       "      <th>symboling</th>\n",
       "      <th>normalized_losses</th>\n",
       "      <th>make</th>\n",
       "      <th>fuel_type</th>\n",
       "      <th>aspiration</th>\n",
       "      <th>num_doors</th>\n",
       "      <th>body_style</th>\n",
       "      <th>drive_wheels</th>\n",
       "      <th>engine_location</th>\n",
       "      <th>wheel_base</th>\n",
       "      <th>...</th>\n",
       "      <th>engine_size</th>\n",
       "      <th>fuel_system</th>\n",
       "      <th>bore</th>\n",
       "      <th>stroke</th>\n",
       "      <th>compression_ratio</th>\n",
       "      <th>horsepower</th>\n",
       "      <th>peak_rpm</th>\n",
       "      <th>city_mpg</th>\n",
       "      <th>highway_mpg</th>\n",
       "      <th>price</th>\n",
       "    </tr>\n",
       "  </thead>\n",
       "  <tbody>\n",
       "    <tr>\n",
       "      <th>0</th>\n",
       "      <td>3</td>\n",
       "      <td>NaN</td>\n",
       "      <td>alfa-romero</td>\n",
       "      <td>gas</td>\n",
       "      <td>std</td>\n",
       "      <td>two</td>\n",
       "      <td>convertible</td>\n",
       "      <td>rwd</td>\n",
       "      <td>front</td>\n",
       "      <td>88.6</td>\n",
       "      <td>...</td>\n",
       "      <td>130</td>\n",
       "      <td>mpfi</td>\n",
       "      <td>3.47</td>\n",
       "      <td>2.68</td>\n",
       "      <td>9.0</td>\n",
       "      <td>111.0</td>\n",
       "      <td>5000.0</td>\n",
       "      <td>21</td>\n",
       "      <td>27</td>\n",
       "      <td>13495.0</td>\n",
       "    </tr>\n",
       "    <tr>\n",
       "      <th>1</th>\n",
       "      <td>3</td>\n",
       "      <td>NaN</td>\n",
       "      <td>alfa-romero</td>\n",
       "      <td>gas</td>\n",
       "      <td>std</td>\n",
       "      <td>two</td>\n",
       "      <td>convertible</td>\n",
       "      <td>rwd</td>\n",
       "      <td>front</td>\n",
       "      <td>88.6</td>\n",
       "      <td>...</td>\n",
       "      <td>130</td>\n",
       "      <td>mpfi</td>\n",
       "      <td>3.47</td>\n",
       "      <td>2.68</td>\n",
       "      <td>9.0</td>\n",
       "      <td>111.0</td>\n",
       "      <td>5000.0</td>\n",
       "      <td>21</td>\n",
       "      <td>27</td>\n",
       "      <td>16500.0</td>\n",
       "    </tr>\n",
       "    <tr>\n",
       "      <th>2</th>\n",
       "      <td>1</td>\n",
       "      <td>NaN</td>\n",
       "      <td>alfa-romero</td>\n",
       "      <td>gas</td>\n",
       "      <td>std</td>\n",
       "      <td>two</td>\n",
       "      <td>hatchback</td>\n",
       "      <td>rwd</td>\n",
       "      <td>front</td>\n",
       "      <td>94.5</td>\n",
       "      <td>...</td>\n",
       "      <td>152</td>\n",
       "      <td>mpfi</td>\n",
       "      <td>2.68</td>\n",
       "      <td>3.47</td>\n",
       "      <td>9.0</td>\n",
       "      <td>154.0</td>\n",
       "      <td>5000.0</td>\n",
       "      <td>19</td>\n",
       "      <td>26</td>\n",
       "      <td>16500.0</td>\n",
       "    </tr>\n",
       "    <tr>\n",
       "      <th>3</th>\n",
       "      <td>2</td>\n",
       "      <td>164.0</td>\n",
       "      <td>audi</td>\n",
       "      <td>gas</td>\n",
       "      <td>std</td>\n",
       "      <td>four</td>\n",
       "      <td>sedan</td>\n",
       "      <td>fwd</td>\n",
       "      <td>front</td>\n",
       "      <td>99.8</td>\n",
       "      <td>...</td>\n",
       "      <td>109</td>\n",
       "      <td>mpfi</td>\n",
       "      <td>3.19</td>\n",
       "      <td>3.40</td>\n",
       "      <td>10.0</td>\n",
       "      <td>102.0</td>\n",
       "      <td>5500.0</td>\n",
       "      <td>24</td>\n",
       "      <td>30</td>\n",
       "      <td>13950.0</td>\n",
       "    </tr>\n",
       "    <tr>\n",
       "      <th>4</th>\n",
       "      <td>2</td>\n",
       "      <td>164.0</td>\n",
       "      <td>audi</td>\n",
       "      <td>gas</td>\n",
       "      <td>std</td>\n",
       "      <td>four</td>\n",
       "      <td>sedan</td>\n",
       "      <td>4wd</td>\n",
       "      <td>front</td>\n",
       "      <td>99.4</td>\n",
       "      <td>...</td>\n",
       "      <td>136</td>\n",
       "      <td>mpfi</td>\n",
       "      <td>3.19</td>\n",
       "      <td>3.40</td>\n",
       "      <td>8.0</td>\n",
       "      <td>115.0</td>\n",
       "      <td>5500.0</td>\n",
       "      <td>18</td>\n",
       "      <td>22</td>\n",
       "      <td>17450.0</td>\n",
       "    </tr>\n",
       "  </tbody>\n",
       "</table>\n",
       "<p>5 rows × 26 columns</p>\n",
       "</div>"
      ],
      "text/plain": [
       "   symboling  normalized_losses         make fuel_type aspiration num_doors  \\\n",
       "0          3                NaN  alfa-romero       gas        std       two   \n",
       "1          3                NaN  alfa-romero       gas        std       two   \n",
       "2          1                NaN  alfa-romero       gas        std       two   \n",
       "3          2              164.0         audi       gas        std      four   \n",
       "4          2              164.0         audi       gas        std      four   \n",
       "\n",
       "    body_style drive_wheels engine_location  wheel_base  ...  engine_size  \\\n",
       "0  convertible          rwd           front        88.6  ...          130   \n",
       "1  convertible          rwd           front        88.6  ...          130   \n",
       "2    hatchback          rwd           front        94.5  ...          152   \n",
       "3        sedan          fwd           front        99.8  ...          109   \n",
       "4        sedan          4wd           front        99.4  ...          136   \n",
       "\n",
       "   fuel_system  bore  stroke compression_ratio horsepower  peak_rpm city_mpg  \\\n",
       "0         mpfi  3.47    2.68               9.0      111.0    5000.0       21   \n",
       "1         mpfi  3.47    2.68               9.0      111.0    5000.0       21   \n",
       "2         mpfi  2.68    3.47               9.0      154.0    5000.0       19   \n",
       "3         mpfi  3.19    3.40              10.0      102.0    5500.0       24   \n",
       "4         mpfi  3.19    3.40               8.0      115.0    5500.0       18   \n",
       "\n",
       "   highway_mpg    price  \n",
       "0           27  13495.0  \n",
       "1           27  16500.0  \n",
       "2           26  16500.0  \n",
       "3           30  13950.0  \n",
       "4           22  17450.0  \n",
       "\n",
       "[5 rows x 26 columns]"
      ]
     },
     "execution_count": 9,
     "metadata": {},
     "output_type": "execute_result"
    }
   ],
   "source": [
    "import numpy as np\n",
    "\n",
    "cars = cars.replace('?', np.nan)\n",
    "\n",
    "# Now lets make things numeric\n",
    "num_vars = ['normalized_losses', \"bore\", \"stroke\", \"horsepower\", \"peak_rpm\",\n",
    "            \"price\"]\n",
    "\n",
    "for i in num_vars:\n",
    "    cars[i] = cars[i].astype('float64')\n",
    "    \n",
    "cars.head()"
   ]
  },
  {
   "cell_type": "code",
   "execution_count": 10,
   "metadata": {},
   "outputs": [
    {
     "name": "stdout",
     "output_type": "stream",
     "text": [
      "normalized losses:  41\n"
     ]
    }
   ],
   "source": [
    "# Anzahl der NaN zählen\n",
    "print(\"normalized losses: \", cars['normalized_losses'].isnull().sum())"
   ]
  },
  {
   "cell_type": "markdown",
   "metadata": {},
   "source": [
    "In der Spalte normalized losses fehlen 41 Werte, was bei 205 Zeilen eine große Menge ausmacht. Nun wollen wir die fehlenden Werte in den anderen Spalten checken."
   ]
  },
  {
   "cell_type": "code",
   "execution_count": 11,
   "metadata": {},
   "outputs": [
    {
     "data": {
      "text/plain": [
       "symboling             0\n",
       "normalized_losses    41\n",
       "make                  0\n",
       "fuel_type             0\n",
       "aspiration            0\n",
       "num_doors             2\n",
       "body_style            0\n",
       "drive_wheels          0\n",
       "engine_location       0\n",
       "wheel_base            0\n",
       "length                0\n",
       "width                 0\n",
       "height                0\n",
       "curb_weight           0\n",
       "engine_type           0\n",
       "num_cylinders         0\n",
       "engine_size           0\n",
       "fuel_system           0\n",
       "bore                  4\n",
       "stroke                4\n",
       "compression_ratio     0\n",
       "horsepower            2\n",
       "peak_rpm              2\n",
       "city_mpg              0\n",
       "highway_mpg           0\n",
       "price                 4\n",
       "dtype: int64"
      ]
     },
     "execution_count": 11,
     "metadata": {},
     "output_type": "execute_result"
    }
   ],
   "source": [
    "cars.isnull().sum()"
   ]
  },
  {
   "cell_type": "markdown",
   "metadata": {},
   "source": [
    "Unser Datenset sieht eigentlich ziemlich sauber aus, bis auf \"normalized-losses\". Nun werde ich nach einem logischen Vorgehen Zeilen mit fehlenden Werten löschen."
   ]
  },
  {
   "cell_type": "code",
   "execution_count": 12,
   "metadata": {},
   "outputs": [],
   "source": [
    "# Wir starten beim Preis\n",
    "cars = cars.dropna(subset = ['price'])"
   ]
  },
  {
   "cell_type": "code",
   "execution_count": 13,
   "metadata": {},
   "outputs": [
    {
     "data": {
      "text/plain": [
       "symboling             0\n",
       "normalized_losses    37\n",
       "make                  0\n",
       "fuel_type             0\n",
       "aspiration            0\n",
       "num_doors             2\n",
       "body_style            0\n",
       "drive_wheels          0\n",
       "engine_location       0\n",
       "wheel_base            0\n",
       "length                0\n",
       "width                 0\n",
       "height                0\n",
       "curb_weight           0\n",
       "engine_type           0\n",
       "num_cylinders         0\n",
       "engine_size           0\n",
       "fuel_system           0\n",
       "bore                  4\n",
       "stroke                4\n",
       "compression_ratio     0\n",
       "horsepower            2\n",
       "peak_rpm              2\n",
       "city_mpg              0\n",
       "highway_mpg           0\n",
       "price                 0\n",
       "dtype: int64"
      ]
     },
     "execution_count": 13,
     "metadata": {},
     "output_type": "execute_result"
    }
   ],
   "source": [
    "cars.isnull().sum()"
   ]
  },
  {
   "cell_type": "markdown",
   "metadata": {},
   "source": [
    "Das hat bereits geholfen. Nun werde ich die anderen Zeilen löschen."
   ]
  },
  {
   "cell_type": "code",
   "execution_count": 16,
   "metadata": {},
   "outputs": [],
   "source": [
    "cars = cars.dropna(subset = ['bore', 'stroke', 'horsepower', 'peak_rpm', 'num_doors'])"
   ]
  },
  {
   "cell_type": "code",
   "execution_count": 17,
   "metadata": {},
   "outputs": [
    {
     "data": {
      "text/plain": [
       "symboling             0\n",
       "normalized_losses    34\n",
       "make                  0\n",
       "fuel_type             0\n",
       "aspiration            0\n",
       "num_doors             0\n",
       "body_style            0\n",
       "drive_wheels          0\n",
       "engine_location       0\n",
       "wheel_base            0\n",
       "length                0\n",
       "width                 0\n",
       "height                0\n",
       "curb_weight           0\n",
       "engine_type           0\n",
       "num_cylinders         0\n",
       "engine_size           0\n",
       "fuel_system           0\n",
       "bore                  0\n",
       "stroke                0\n",
       "compression_ratio     0\n",
       "horsepower            0\n",
       "peak_rpm              0\n",
       "city_mpg              0\n",
       "highway_mpg           0\n",
       "price                 0\n",
       "dtype: int64"
      ]
     },
     "execution_count": 17,
     "metadata": {},
     "output_type": "execute_result"
    }
   ],
   "source": [
    "cars.isnull().sum()"
   ]
  },
  {
   "cell_type": "markdown",
   "metadata": {},
   "source": [
    "Bis auf normalized_losses sind alle fehlenden Werte entfernt."
   ]
  },
  {
   "cell_type": "markdown",
   "metadata": {},
   "source": [
    "In einem letzten Schritt vor der Modellierung will ich die numerischen Daten noch in ein neues Datenset übertragen bevor ich anfange zu modellieren."
   ]
  },
  {
   "cell_type": "code",
   "execution_count": 18,
   "metadata": {},
   "outputs": [],
   "source": [
    "cols = ['wheel_base', 'length', 'width', 'height',\n",
    "        'curb_weight', 'engine_size', 'bore', 'stroke', 'horsepower',\n",
    "        'peak_rpm', 'city_mpg', 'highway_mpg', 'price']\n",
    "cars = cars[cols]\n",
    "\n",
    "normalized_cars = (cars - cars.mean()) / (cars.std())"
   ]
  },
  {
   "cell_type": "markdown",
   "metadata": {},
   "source": [
    "## Modellierung"
   ]
  },
  {
   "cell_type": "markdown",
   "metadata": {},
   "source": [
    "In einem nächsten Schritt werde ich eine KNN Funktion aufstellen und die einzelnen Spalten mit KNN und RMSE darauf überprüfen, ob sie als sinnvolle \"Predictor\" für meine spätere Preisprognose dienen können."
   ]
  },
  {
   "cell_type": "markdown",
   "metadata": {},
   "source": [
    "Hierfür greife ich auf die scikit-learn Bibliotheken zurück, die ich während dem dataquest Kurs kennengelernt habe."
   ]
  },
  {
   "cell_type": "code",
   "execution_count": 19,
   "metadata": {},
   "outputs": [],
   "source": [
    "# Funktion, die eindimensionale Modelle trainiert und testet\n",
    "from sklearn.neighbors import KNeighborsRegressor\n",
    "from sklearn.metrics import mean_squared_error\n",
    "\n",
    "def knn_train_test(train_col, target_col, df):\n",
    "    knn = KNeighborsRegressor()\n",
    "    np.random.seed(1)\n",
    "        \n",
    "    # willkürliche Anordnung der Daten\n",
    "    shuffled_index = np.random.permutation(df.index)\n",
    "    rand_df = df.reindex(shuffled_index)\n",
    "\n",
    "    # Halbieren der Anzahl Zellen\n",
    "    last_train_row = int(len(rand_df) / 2)\n",
    "    \n",
    "    # Die erste Hälfte dient als Trainingset\n",
    "    # Die zweite Hälfte dient als Testset\n",
    "    train_df = rand_df.iloc[0:last_train_row]\n",
    "    test_df = rand_df.iloc[last_train_row:]\n",
    "    \n",
    "    # KNN Klassifizierung\n",
    "    knn.fit(train_df[[train_col]], train_df[target_col])\n",
    "    predicted_labels = knn.predict(test_df[[train_col]])\n",
    "\n",
    "    # Berechnen der Fehlerwerte RMSE.\n",
    "    mse = mean_squared_error(test_df[target_col], predicted_labels)\n",
    "    rmse = np.sqrt(mse)\n",
    "    return rmse"
   ]
  },
  {
   "cell_type": "code",
   "execution_count": 20,
   "metadata": {},
   "outputs": [
    {
     "name": "stdout",
     "output_type": "stream",
     "text": [
      "city mpg:  0.5977207173562914\n",
      "width:  0.5771034906881971\n",
      "highway mpg:  0.5608495944049304\n",
      "engine size:  0.3971745521927362\n",
      "horsepower:  0.6098874396874532\n"
     ]
    }
   ],
   "source": [
    "# Testen der Spalten als Prediktor mit der KNN Klassifizierung\n",
    "print('city mpg: ', knn_train_test('city_mpg', 'price', normalized_cars))\n",
    "print('width: ', knn_train_test('width', 'price', normalized_cars))\n",
    "print('highway mpg: ', knn_train_test('highway_mpg', 'price', normalized_cars))\n",
    "print('engine size: ', knn_train_test('engine_size', 'price', normalized_cars))\n",
    "print('horsepower: ', knn_train_test('horsepower', 'price', normalized_cars))"
   ]
  },
  {
   "cell_type": "markdown",
   "metadata": {},
   "source": [
    "Die Auswertung zeigt, dass überraschenderweise horsepower ein schlechter Indikikator für den Autopreis ist und Hubraum ein sehr guter. Weiter scheint die Autolänge und Miles per Gallon in der Stadt ebenfalls eher schlecht Indikatoren für den Autopreis zu sein. Jedoch sind diese Fehlerwerte alle isoliert betrachtet ohne Kombination mit anderen Spalten."
   ]
  },
  {
   "cell_type": "markdown",
   "metadata": {},
   "source": [
    "Um meine Ergebnisse nochmals zu verifizieren, lasse ich das ganze nochmals mit unterschiedlichen Werte k trainieren und testen mit einem array [1,3,5,7,9]."
   ]
  },
  {
   "cell_type": "code",
   "execution_count": 21,
   "metadata": {},
   "outputs": [
    {
     "data": {
      "text/plain": [
       "{'wheel_base': {1: 0.7828031239770414,\n",
       "  3: 0.7221718127658258,\n",
       "  5: 0.7268602466331098,\n",
       "  7: 0.7318249142495196,\n",
       "  9: 0.7426709021404414},\n",
       " 'length': {1: 0.7736226245682798,\n",
       "  3: 0.7125607916591421,\n",
       "  5: 0.7199542942094256,\n",
       "  7: 0.7239918146856693,\n",
       "  9: 0.7290176209706889},\n",
       " 'width': {1: 0.6176931867173693,\n",
       "  3: 0.5690380013712371,\n",
       "  5: 0.5771034906881971,\n",
       "  7: 0.5504416097314524,\n",
       "  9: 0.5848656944796756},\n",
       " 'height': {1: 1.3400340333646827,\n",
       "  3: 1.0532562209407335,\n",
       "  5: 1.0459430601353807,\n",
       "  7: 1.0011920801837217,\n",
       "  9: 1.010731315203313},\n",
       " 'curb_weight': {1: 0.6129716888197899,\n",
       "  3: 0.5121654437092118,\n",
       "  5: 0.5286404643259163,\n",
       "  7: 0.5380609933418921,\n",
       "  9: 0.590251744141821},\n",
       " 'engine_size': {1: 0.4313523026109327,\n",
       "  3: 0.38540202322422074,\n",
       "  5: 0.3971745521927362,\n",
       "  7: 0.4407233560752905,\n",
       "  9: 0.4816944688371549},\n",
       " 'bore': {1: 0.9011379460150852,\n",
       "  3: 0.8965186318344839,\n",
       "  5: 0.8919639155079472,\n",
       "  7: 0.9026843866754162,\n",
       "  9: 0.8924841963753289},\n",
       " 'stroke': {1: 0.9934459676306456,\n",
       "  3: 0.935288095039312,\n",
       "  5: 0.990090799676581,\n",
       "  7: 1.0535201165048573,\n",
       "  9: 1.0239432945294218},\n",
       " 'horsepower': {1: 0.5551792460213537,\n",
       "  3: 0.5485689216336084,\n",
       "  5: 0.6098874396874532,\n",
       "  7: 0.5983131237792242,\n",
       "  9: 0.6378913552365378},\n",
       " 'peak_rpm': {1: 0.9395997391524226,\n",
       "  3: 0.918587698914419,\n",
       "  5: 1.0176300243629757,\n",
       "  7: 0.9766038214074376,\n",
       "  9: 0.9832953915745098},\n",
       " 'city_mpg': {1: 0.6983005498860759,\n",
       "  3: 0.5546692840207508,\n",
       "  5: 0.5977207173562914,\n",
       "  7: 0.5364764399465124,\n",
       "  9: 0.5806425028118403},\n",
       " 'highway_mpg': {1: 0.5867136650883984,\n",
       "  3: 0.5202565771379636,\n",
       "  5: 0.5608495944049304,\n",
       "  7: 0.5819525133241601,\n",
       "  9: 0.6140223087476621}}"
      ]
     },
     "execution_count": 21,
     "metadata": {},
     "output_type": "execute_result"
    }
   ],
   "source": [
    "def knn_train_test_new(train_col, target_col, df):\n",
    "    np.random.seed(1)\n",
    "        \n",
    "    # willkürliche Anordnung der Daten\n",
    "    shuffled_index = np.random.permutation(df.index)\n",
    "    rand_df = df.reindex(shuffled_index)\n",
    "\n",
    "    # Halbieren der Anzahl Zellen\n",
    "    last_train_row = int(len(rand_df) / 2)\n",
    "    \n",
    "    # Die erste Hälfte dient als Trainingset\n",
    "    # Die zweite Hälfte dient als Testset\n",
    "    train_df = rand_df.iloc[0:last_train_row]\n",
    "    test_df = rand_df.iloc[last_train_row:]\n",
    "    \n",
    "    k_values = [1,3,5,7,9]\n",
    "    k_rmses = {}\n",
    "    \n",
    "    for k in k_values:\n",
    "        # KNN Klassifizierung\n",
    "        knn = KNeighborsRegressor(n_neighbors=k)\n",
    "        knn.fit(train_df[[train_col]], train_df[target_col])\n",
    "        predicted_labels = knn.predict(test_df[[train_col]])\n",
    "\n",
    "        # Berechnen der Fehlerwerte RMSE.\n",
    "        mse = mean_squared_error(test_df[target_col], predicted_labels)\n",
    "        rmse = np.sqrt(mse)\n",
    "        \n",
    "        k_rmses[k] = rmse\n",
    "    return k_rmses\n",
    "\n",
    "k_rmse_results = {}\n",
    "\n",
    "# Auswertung wie oben\n",
    "variables = ['wheel_base', 'length', 'width', 'height',\n",
    "        'curb_weight', 'engine_size', 'bore', 'stroke', 'horsepower',\n",
    "        'peak_rpm', 'city_mpg', 'highway_mpg']\n",
    "\n",
    "for var in variables:\n",
    "    rmse_val = knn_train_test_new(var, 'price', normalized_cars)\n",
    "    k_rmse_results[var] = rmse_val\n",
    "\n",
    "k_rmse_results"
   ]
  },
  {
   "cell_type": "markdown",
   "metadata": {},
   "source": [
    "Die Auswertung zeigt, dass k = 9 für manche Spalten besser passt als für andere. Die Auswertung zeigt zudem lediglich die isolierte Betrachtung einer Spalte. Diese Auswertung gibt uns noch kein zufriedenstellendes Ergebnis. In einem nächsten Schritt werde ich die 5 besten Prediktor nutzen und sie verlinkt nach dem KNN Algorithmus trainieren und testen."
   ]
  },
  {
   "cell_type": "markdown",
   "metadata": {},
   "source": [
    "Ich konzentriere mich im Anschluss auf \"engine-size\", \"highway_mpg\", \"curb_weight\", \"horsepower\", \"city_mpg\"."
   ]
  },
  {
   "cell_type": "code",
   "execution_count": 35,
   "metadata": {},
   "outputs": [
    {
     "data": {
      "text/plain": [
       "{'2 Indikatoren': {5: 0.4191209082213026},\n",
       " '3 Indikatoren': {5: 0.4636929631531235},\n",
       " '4 Indikatoren': {5: 0.47673590549429157},\n",
       " '5 Indikatoren': {5: 0.48473636731175224}}"
      ]
     },
     "execution_count": 35,
     "metadata": {},
     "output_type": "execute_result"
    }
   ],
   "source": [
    "def knn_train_test_mult(train_cols, target_col, df):\n",
    "    np.random.seed(1)\n",
    "        \n",
    "    # willkürliche Anordnung der Daten\n",
    "    shuffled_index = np.random.permutation(df.index)\n",
    "    rand_df = df.reindex(shuffled_index)\n",
    "\n",
    "    # Halbieren der Anzahl Zellen\n",
    "    last_train_row = int(len(rand_df) / 2)\n",
    "    \n",
    "    # Die erste Hälfte dient als Trainingset\n",
    "    # Die zweite Hälfte dient als Testset\n",
    "    train_df = rand_df.iloc[0:last_train_row]\n",
    "    test_df = rand_df.iloc[last_train_row:]\n",
    "    \n",
    "    k_values = [5]\n",
    "    k_rmses = {}\n",
    "    \n",
    "    for k in k_values:\n",
    "        # KNN Klassifizierung\n",
    "        knn = KNeighborsRegressor(n_neighbors=k)\n",
    "        knn.fit(train_df[train_cols], train_df[target_col])\n",
    "\n",
    "        predicted_labels = knn.predict(test_df[train_cols])\n",
    "\n",
    "        # Berechnen der Fehlerwerte RMSE.\n",
    "        mse = mean_squared_error(test_df[target_col], predicted_labels)\n",
    "        rmse = np.sqrt(mse)\n",
    "        \n",
    "        k_rmses[k] = rmse\n",
    "    return k_rmses\n",
    "\n",
    "train_cols_2 = ['engine_size', 'highway_mpg']\n",
    "train_cols_3 = ['engine_size', 'highway_mpg', 'curb_weight']\n",
    "train_cols_4 = ['engine_size', 'highway_mpg', 'curb_weight',\n",
    "               'horsepower']\n",
    "train_cols_5 = ['engine_size', 'highway_mpg', 'curb_weight',\n",
    "               'horsepower', 'city_mpg']\n",
    "\n",
    "k_rmse_results = {}\n",
    "\n",
    "rmse_val = knn_train_test_mult(train_cols_2, 'price', normalized_cars)\n",
    "k_rmse_results[\"2 Indikatoren\"] = rmse_val\n",
    "rmse_val = knn_train_test_mult(train_cols_3, 'price', normalized_cars)\n",
    "k_rmse_results[\"3 Indikatoren\"] = rmse_val\n",
    "rmse_val = knn_train_test_mult(train_cols_4, 'price', normalized_cars)\n",
    "k_rmse_results[\"4 Indikatoren\"] = rmse_val\n",
    "rmse_val = knn_train_test_mult(train_cols_5, 'price', normalized_cars)\n",
    "k_rmse_results[\"5 Indikatoren\"] = rmse_val\n",
    "\n",
    "k_rmse_results"
   ]
  },
  {
   "cell_type": "markdown",
   "metadata": {},
   "source": [
    "Die Auswertung zeigt, dass der Autopreis am besten mit engine-size und highway_mpg prognostiziert werden kann. Dies scheint wesentlich besser als bis zu 5 Indikatoren zu berücksichtigen. Es ist zu erkennen, dass beim Einbezug von mehr Indikatoren der Fehlerwert größter wird."
   ]
  },
  {
   "cell_type": "markdown",
   "metadata": {},
   "source": [
    "Aufgrund der Auswertung werde ich mit den zwei Indikatoren engine-size und highway-mpg weiterfahren. Ich bin noch nicht ganz glücklich mit dem k-Wert und werde deshalb eine weitere Analyse fahren, die k-Werte von 1-12 trainieren und testen."
   ]
  },
  {
   "cell_type": "code",
   "execution_count": 39,
   "metadata": {},
   "outputs": [
    {
     "data": {
      "text/plain": [
       "{'2 Indikatoren': {1: 0.4023119204496319,\n",
       "  2: 0.34775590666938055,\n",
       "  3: 0.3507184342389931,\n",
       "  4: 0.4067514295115171,\n",
       "  5: 0.4191209082213026,\n",
       "  6: 0.4188435188707149,\n",
       "  7: 0.4413089734275166,\n",
       "  8: 0.4591034248021089,\n",
       "  9: 0.48264287270600864,\n",
       "  10: 0.5093119092683336,\n",
       "  11: 0.5349839561048475},\n",
       " '3 Indikatoren': {1: 0.35218286564751927,\n",
       "  2: 0.32979442084968225,\n",
       "  3: 0.3754954388813044,\n",
       "  4: 0.4218338552059866,\n",
       "  5: 0.4636929631531235,\n",
       "  6: 0.4914370282915947,\n",
       "  7: 0.5215248079192926,\n",
       "  8: 0.5379645832617136,\n",
       "  9: 0.5497995664635731,\n",
       "  10: 0.5629664343247851,\n",
       "  11: 0.5756343394184102},\n",
       " '4 Indikatoren': {1: 0.3843138526538685,\n",
       "  2: 0.3484779243821034,\n",
       "  3: 0.40172110525771537,\n",
       "  4: 0.43623039986312573,\n",
       "  5: 0.47673590549429157,\n",
       "  6: 0.5098674809262911,\n",
       "  7: 0.522998321668861,\n",
       "  8: 0.5441444346389539,\n",
       "  9: 0.5525564226736684,\n",
       "  10: 0.5585701021067181,\n",
       "  11: 0.5651536243365779},\n",
       " '5 Indikatoren': {1: 0.36445475858367077,\n",
       "  2: 0.3605878322838429,\n",
       "  3: 0.39630768202414457,\n",
       "  4: 0.42972052753199136,\n",
       "  5: 0.48473636731175224,\n",
       "  6: 0.5107596280883786,\n",
       "  7: 0.5119494193806042,\n",
       "  8: 0.529391227283452,\n",
       "  9: 0.5334546850227097,\n",
       "  10: 0.5578241006856575,\n",
       "  11: 0.5680440476599966}}"
      ]
     },
     "execution_count": 39,
     "metadata": {},
     "output_type": "execute_result"
    }
   ],
   "source": [
    "def knn_train_test_mult(train_cols, target_col, df):\n",
    "    np.random.seed(1)\n",
    "        \n",
    "    # Randomize order of rows in data frame.\n",
    "    shuffled_index = np.random.permutation(df.index)\n",
    "    rand_df = df.reindex(shuffled_index)\n",
    "\n",
    "    # Divide number of rows in half and round.\n",
    "    last_train_row = int(len(rand_df) / 2)\n",
    "    \n",
    "    # Select the first half and set as training set.\n",
    "    # Select the second half and set as test set.\n",
    "    train_df = rand_df.iloc[0:last_train_row]\n",
    "    test_df = rand_df.iloc[last_train_row:]\n",
    "    \n",
    "    k_values = list(range(1,12))\n",
    "    k_rmses = {}\n",
    "    \n",
    "    for k in k_values:\n",
    "        # Fit model using k nearest neighbors.\n",
    "        knn = KNeighborsRegressor(n_neighbors=k)\n",
    "        knn.fit(train_df[train_cols], train_df[target_col])\n",
    "\n",
    "        # Make predictions using model.\n",
    "        predicted_labels = knn.predict(test_df[train_cols])\n",
    "\n",
    "        # Calculate and return RMSE.\n",
    "        mse = mean_squared_error(test_df[target_col], predicted_labels)\n",
    "        rmse = np.sqrt(mse)\n",
    "        \n",
    "        k_rmses[k] = rmse\n",
    "    return k_rmses\n",
    "\n",
    "k_rmse_results_2 = {}\n",
    "\n",
    "rmse_val = knn_train_test_mult(train_cols_2, 'price', normalized_cars)\n",
    "k_rmse_results_2[\"2 Indikatoren\"] = rmse_val\n",
    "rmse_val = knn_train_test_mult(train_cols_3, 'price', normalized_cars)\n",
    "k_rmse_results_2[\"3 Indikatoren\"] = rmse_val\n",
    "rmse_val = knn_train_test_mult(train_cols_4, 'price', normalized_cars)\n",
    "k_rmse_results_2[\"4 Indikatoren\"] = rmse_val\n",
    "rmse_val = knn_train_test_mult(train_cols_5, 'price', normalized_cars)\n",
    "k_rmse_results_2[\"5 Indikatoren\"] = rmse_val\n",
    "\n",
    "k_rmse_results_2"
   ]
  },
  {
   "cell_type": "code",
   "execution_count": 40,
   "metadata": {},
   "outputs": [
    {
     "data": {
      "image/png": "[encoded data removed]",
      "text/plain": [
       "<Figure size 432x288 with 1 Axes>"
      ]
     },
     "metadata": {
      "needs_background": "light"
     },
     "output_type": "display_data"
    }
   ],
   "source": [
    "import matplotlib.pyplot as plt\n",
    "\n",
    "for k,v in k_rmse_results_2.items():\n",
    "    x = list(v.keys())\n",
    "    y = list(v.values())\n",
    "    \n",
    "    plt.plot(x,y)\n",
    "    plt.xlabel('k value')\n",
    "    plt.ylabel('RMSE')\n",
    "    \n",
    "plt.show()"
   ]
  },
  {
   "cell_type": "markdown",
   "metadata": {},
   "source": [
    "Die Auswertung zeigt, dass egal für welche Anzahl Prediktor eine Anzahl k zwischen 2 und 3 am besten ist."
   ]
  },
  {
   "cell_type": "markdown",
   "metadata": {},
   "source": [
    "**Zusammenfassung:** Wir haben herausgefunden, dass für die Prognose vom Autopreis die Indikatoren engine-size und highway mpg völlig ausreichen und k entweder 2 oder 3 sein sollte."
   ]
  }
 ],
 "metadata": {
  "kernelspec": {
   "display_name": "Python 3",
   "language": "python",
   "name": "python3"
  },
  "language_info": {
   "codemirror_mode": {
    "name": "ipython",
    "version": 3
   },
   "file_extension": ".py",
   "mimetype": "text/x-python",
   "name": "python",
   "nbconvert_exporter": "python",
   "pygments_lexer": "ipython3",
   "version": "3.7.6"
  }
 },
 "nbformat": 4,
 "nbformat_minor": 4
}
